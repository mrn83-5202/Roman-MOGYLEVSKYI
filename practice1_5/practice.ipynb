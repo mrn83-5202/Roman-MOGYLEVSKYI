{
 "cells": [
  {
   "cell_type": "markdown",
   "metadata": {},
   "source": [
    "hfghjm"
   ]
  }
 ],
 "metadata": {
  "language_info": {
   "name": "python"
  }
 },
 "nbformat": 4,
 "nbformat_minor": 2
}
